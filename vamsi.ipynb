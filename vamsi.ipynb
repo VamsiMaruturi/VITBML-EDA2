{
  "nbformat": 4,
  "nbformat_minor": 0,
  "metadata": {
    "colab": {
      "name": "vamsi.ipynb",
      "provenance": [],
      "collapsed_sections": [],
      "authorship_tag": "ABX9TyMLmBawNCFwfAAQ308uNyk7",
      "include_colab_link": true
    },
    "kernelspec": {
      "name": "python3",
      "display_name": "Python 3"
    }
  },
  "cells": [
    {
      "cell_type": "markdown",
      "metadata": {
        "id": "view-in-github",
        "colab_type": "text"
      },
      "source": [
        "<a href=\"https://colab.research.google.com/github/VamsiMaruturi/VITBML-EDA2/blob/master/vamsi.ipynb\" target=\"_parent\"><img src=\"https://colab.research.google.com/assets/colab-badge.svg\" alt=\"Open In Colab\"/></a>"
      ]
    },
    {
      "cell_type": "code",
      "metadata": {
        "id": "PlMBay0zXinm",
        "colab_type": "code",
        "colab": {}
      },
      "source": [
        "import numpy as np\n",
        "import matplotlib.pyplot as plt\n",
        "import pandas as pd\n",
        "import seaborn as sns\n",
        "import glob\n",
        "import os\n",
        "from sklearn.cluster import KMeans\n",
        "import math\n"
      ],
      "execution_count": 0,
      "outputs": []
    },
    {
      "cell_type": "code",
      "metadata": {
        "id": "NmHAsYmidhl6",
        "colab_type": "code",
        "outputId": "d9b5bced-6e3c-449c-9238-69c82c21f837",
        "colab": {
          "base_uri": "https://localhost:8080/",
          "height": 419
        }
      },
      "source": [
        "np.random.RandomState(seed=1)\n",
        "covid_df = pd.read_csv(r\"/content/03-26-2020.csv\")\n",
        "columns_required=[\"Lat\",\"Long_\",\"Confirmed\",\"Deaths\",\"Recovered\"]\n",
        "covid_df=covid_df[columns_required]\n",
        "covid_df"
      ],
      "execution_count": 0,
      "outputs": [
        {
          "output_type": "execute_result",
          "data": {
            "text/html": [
              "<div>\n",
              "<style scoped>\n",
              "    .dataframe tbody tr th:only-of-type {\n",
              "        vertical-align: middle;\n",
              "    }\n",
              "\n",
              "    .dataframe tbody tr th {\n",
              "        vertical-align: top;\n",
              "    }\n",
              "\n",
              "    .dataframe thead th {\n",
              "        text-align: right;\n",
              "    }\n",
              "</style>\n",
              "<table border=\"1\" class=\"dataframe\">\n",
              "  <thead>\n",
              "    <tr style=\"text-align: right;\">\n",
              "      <th></th>\n",
              "      <th>Lat</th>\n",
              "      <th>Long_</th>\n",
              "      <th>Confirmed</th>\n",
              "      <th>Deaths</th>\n",
              "      <th>Recovered</th>\n",
              "    </tr>\n",
              "  </thead>\n",
              "  <tbody>\n",
              "    <tr>\n",
              "      <th>0</th>\n",
              "      <td>34.223334</td>\n",
              "      <td>-82.461707</td>\n",
              "      <td>3</td>\n",
              "      <td>0</td>\n",
              "      <td>0</td>\n",
              "    </tr>\n",
              "    <tr>\n",
              "      <th>1</th>\n",
              "      <td>30.295065</td>\n",
              "      <td>-92.414197</td>\n",
              "      <td>3</td>\n",
              "      <td>0</td>\n",
              "      <td>0</td>\n",
              "    </tr>\n",
              "    <tr>\n",
              "      <th>2</th>\n",
              "      <td>37.767072</td>\n",
              "      <td>-75.632346</td>\n",
              "      <td>2</td>\n",
              "      <td>0</td>\n",
              "      <td>0</td>\n",
              "    </tr>\n",
              "    <tr>\n",
              "      <th>3</th>\n",
              "      <td>43.452658</td>\n",
              "      <td>-116.241552</td>\n",
              "      <td>39</td>\n",
              "      <td>0</td>\n",
              "      <td>0</td>\n",
              "    </tr>\n",
              "    <tr>\n",
              "      <th>4</th>\n",
              "      <td>41.330756</td>\n",
              "      <td>-94.471059</td>\n",
              "      <td>1</td>\n",
              "      <td>0</td>\n",
              "      <td>0</td>\n",
              "    </tr>\n",
              "    <tr>\n",
              "      <th>...</th>\n",
              "      <td>...</td>\n",
              "      <td>...</td>\n",
              "      <td>...</td>\n",
              "      <td>...</td>\n",
              "      <td>...</td>\n",
              "    </tr>\n",
              "    <tr>\n",
              "      <th>3416</th>\n",
              "      <td>6.423800</td>\n",
              "      <td>-66.589700</td>\n",
              "      <td>107</td>\n",
              "      <td>0</td>\n",
              "      <td>15</td>\n",
              "    </tr>\n",
              "    <tr>\n",
              "      <th>3417</th>\n",
              "      <td>14.058324</td>\n",
              "      <td>108.277199</td>\n",
              "      <td>153</td>\n",
              "      <td>0</td>\n",
              "      <td>20</td>\n",
              "    </tr>\n",
              "    <tr>\n",
              "      <th>3418</th>\n",
              "      <td>31.952200</td>\n",
              "      <td>35.233200</td>\n",
              "      <td>84</td>\n",
              "      <td>1</td>\n",
              "      <td>17</td>\n",
              "    </tr>\n",
              "    <tr>\n",
              "      <th>3419</th>\n",
              "      <td>-13.133897</td>\n",
              "      <td>27.849332</td>\n",
              "      <td>16</td>\n",
              "      <td>0</td>\n",
              "      <td>0</td>\n",
              "    </tr>\n",
              "    <tr>\n",
              "      <th>3420</th>\n",
              "      <td>-19.015438</td>\n",
              "      <td>29.154857</td>\n",
              "      <td>3</td>\n",
              "      <td>1</td>\n",
              "      <td>0</td>\n",
              "    </tr>\n",
              "  </tbody>\n",
              "</table>\n",
              "<p>3421 rows × 5 columns</p>\n",
              "</div>"
            ],
            "text/plain": [
              "            Lat       Long_  Confirmed  Deaths  Recovered\n",
              "0     34.223334  -82.461707          3       0          0\n",
              "1     30.295065  -92.414197          3       0          0\n",
              "2     37.767072  -75.632346          2       0          0\n",
              "3     43.452658 -116.241552         39       0          0\n",
              "4     41.330756  -94.471059          1       0          0\n",
              "...         ...         ...        ...     ...        ...\n",
              "3416   6.423800  -66.589700        107       0         15\n",
              "3417  14.058324  108.277199        153       0         20\n",
              "3418  31.952200   35.233200         84       1         17\n",
              "3419 -13.133897   27.849332         16       0          0\n",
              "3420 -19.015438   29.154857          3       1          0\n",
              "\n",
              "[3421 rows x 5 columns]"
            ]
          },
          "metadata": {
            "tags": []
          },
          "execution_count": 25
        }
      ]
    },
    {
      "cell_type": "code",
      "metadata": {
        "id": "QIP8dJyveWIH",
        "colab_type": "code",
        "colab": {}
      },
      "source": [
        "confirmed_arr = []\n",
        "deaths_arr=[]\n",
        "recovered_arr = []\n",
        "for i,row in enumerate(covid_df.iterrows()):\n",
        "  data_row = pd.DataFrame([row[1]])\n",
        "  confirmed_arr=confirmed_arr+[[data_row[\"Lat\"][i],data_row[\"Long_\"][i]]]*int(data_row[\"Confirmed\"][i])\n",
        "  deaths_arr=deaths_arr+[[data_row[\"Lat\"][i],data_row[\"Long_\"][i]]]*int(data_row[\"Deaths\"][i])\n",
        "  recovered_arr=recovered_arr+[[data_row[\"Lat\"][i],data_row[\"Long_\"][i]]]*int(data_row[\"Recovered\"][i])\n"
      ],
      "execution_count": 0,
      "outputs": []
    },
    {
      "cell_type": "code",
      "metadata": {
        "id": "xSQAU3Lge5p0",
        "colab_type": "code",
        "outputId": "a9c38962-1d08-4f65-803e-7809bc7d1961",
        "colab": {
          "base_uri": "https://localhost:8080/",
          "height": 295
        }
      },
      "source": [
        "k_means = [KMeans(n_clusters=i,random_state=0) for i in range(2,21)]\n",
        "score = [k_means[i].fit(recovered_arr).score(recovered_arr) for i in range(19)]\n",
        "plt.plot(range(2,21),score)\n",
        "plt.xlabel('Number of Clusters')\n",
        "plt.ylabel('Score')\n",
        "plt.title('Elbow Curve')\n",
        "plt.show()"
      ],
      "execution_count": 0,
      "outputs": [
        {
          "output_type": "display_data",
          "data": {
            "image/png": "[encoded data removed]",
            "text/plain": [
              "<Figure size 432x288 with 1 Axes>"
            ]
          },
          "metadata": {
            "tags": []
          }
        }
      ]
    },
    {
      "cell_type": "code",
      "metadata": {
        "id": "oysagAgI6iW5",
        "colab_type": "code",
        "outputId": "3ebefe2b-0c75-4c28-b3c9-356038bea7d1",
        "colab": {
          "base_uri": "https://localhost:8080/",
          "height": 282
        }
      },
      "source": [
        "k_means_5 = KMeans(n_clusters=5,random_state=0)\n",
        "k_means_5.fit(recovered_arr)\n",
        "y_kmeans_5=k_means_5.predict(recovered_arr)\n",
        "plt.scatter(np.array(recovered_arr)[:,1],np.array(recovered_arr)[:,0],c=y_kmeans_5, s=20, cmap='viridis')\n"
      ],
      "execution_count": 0,
      "outputs": [
        {
          "output_type": "execute_result",
          "data": {
            "text/plain": [
              "<matplotlib.collections.PathCollection at 0x7f898ed16a90>"
            ]
          },
          "metadata": {
            "tags": []
          },
          "execution_count": 28
        },
        {
          "output_type": "display_data",
          "data": {
            "image/png": "[encoded data removed]",
            "text/plain": [
              "<Figure size 432x288 with 1 Axes>"
            ]
          },
          "metadata": {
            "tags": []
          }
        }
      ]
    },
    {
      "cell_type": "code",
      "metadata": {
        "id": "F2lS9nPxwmcl",
        "colab_type": "code",
        "outputId": "25c3aa78-7697-4aa0-8f22-501241cda5e1",
        "colab": {
          "base_uri": "https://localhost:8080/",
          "height": 295
        }
      },
      "source": [
        "k_means = [KMeans(n_clusters=i,random_state=0) for i in range(2,21)]\n",
        "score = [k_means[i].fit(confirmed_arr).score(confirmed_arr) for i in range(19)]\n",
        "plt.plot(range(2,21),score)\n",
        "plt.xlabel('Number of Clusters')\n",
        "plt.ylabel('Score')\n",
        "plt.title('Elbow Curve')\n",
        "plt.show()"
      ],
      "execution_count": 0,
      "outputs": [
        {
          "output_type": "display_data",
          "data": {
            "image/png": "[encoded data removed]",
            "text/plain": [
              "<Figure size 432x288 with 1 Axes>"
            ]
          },
          "metadata": {
            "tags": []
          }
        }
      ]
    },
    {
      "cell_type": "code",
      "metadata": {
        "id": "H_6MZpEv9wZz",
        "colab_type": "code",
        "outputId": "7f9b7384-d788-4b77-d4b6-a331cd0152cb",
        "colab": {
          "base_uri": "https://localhost:8080/",
          "height": 282
        }
      },
      "source": [
        "k_means_optimal_5 = KMeans(n_clusters=5,random_state=0)\n",
        "k_means_optimal_5.fit(confirmed_arr)\n",
        "y_kmeans_optimal_5=k_means_optimal_5.predict(confirmed_arr)\n",
        "plt.scatter(np.array(confirmed_arr)[:,1],np.array(confirmed_arr)[:,0],c=y_kmeans_optimal_5, s=20, cmap='viridis')"
      ],
      "execution_count": 0,
      "outputs": [
        {
          "output_type": "execute_result",
          "data": {
            "text/plain": [
              "<matplotlib.collections.PathCollection at 0x7f898e7b5cf8>"
            ]
          },
          "metadata": {
            "tags": []
          },
          "execution_count": 30
        },
        {
          "output_type": "display_data",
          "data": {
            "image/png": "[encoded data removed]",
            "text/plain": [
              "<Figure size 432x288 with 1 Axes>"
            ]
          },
          "metadata": {
            "tags": []
          }
        }
      ]
    },
    {
      "cell_type": "code",
      "metadata": {
        "id": "GkDSgmk5w_fc",
        "colab_type": "code",
        "outputId": "07227ba8-4055-4ae6-f926-8332a1642a11",
        "colab": {
          "base_uri": "https://localhost:8080/",
          "height": 295
        }
      },
      "source": [
        "k_means = [KMeans(n_clusters=i,random_state=0) for i in range(2,21)]\n",
        "score = [k_means[i].fit(deaths_arr).score(deaths_arr) for i in range(19)]\n",
        "plt.plot(range(2,21),score)\n",
        "plt.xlabel('Number of Clusters')\n",
        "plt.ylabel('Score')\n",
        "plt.title('Elbow Curve')\n",
        "plt.show()"
      ],
      "execution_count": 0,
      "outputs": [
        {
          "output_type": "display_data",
          "data": {
            "image/png": "[encoded data removed]",
            "text/plain": [
              "<Figure size 432x288 with 1 Axes>"
            ]
          },
          "metadata": {
            "tags": []
          }
        }
      ]
    },
    {
      "cell_type": "code",
      "metadata": {
        "id": "ED6XqvFHoWpU",
        "colab_type": "code",
        "outputId": "432c3e1d-08dc-48c6-adea-466699e7637a",
        "colab": {
          "base_uri": "https://localhost:8080/",
          "height": 282
        }
      },
      "source": [
        "k_optimal_5 = KMeans(n_clusters=5,random_state=0)\n",
        "k_optimal_5.fit(deaths_arr)\n",
        "y_optimal_5=k_optimal_5.predict(deaths_arr)\n",
        "plt.scatter(np.array(deaths_arr)[:,1],np.array(deaths_arr)[:,0],c=y_optimal_5, s=20, cmap='viridis')"
      ],
      "execution_count": 0,
      "outputs": [
        {
          "output_type": "execute_result",
          "data": {
            "text/plain": [
              "<matplotlib.collections.PathCollection at 0x7f898e6fde80>"
            ]
          },
          "metadata": {
            "tags": []
          },
          "execution_count": 32
        },
        {
          "output_type": "display_data",
          "data": {
            "image/png": "[encoded data removed]",
            "text/plain": [
              "<Figure size 432x288 with 1 Axes>"
            ]
          },
          "metadata": {
            "tags": []
          }
        }
      ]
    },
    {
      "cell_type": "code",
      "metadata": {
        "id": "PHwAQcR1j54h",
        "colab_type": "code",
        "colab": {}
      },
      "source": [
        "df_confirmed=pd.read_csv('/content/time_series_covid19_confirmed_global.csv')\n",
        "confirmed_df=[]\n",
        "for i,row in enumerate(df_confirmed.iterrows()):\n",
        "  data=pd.DataFrame([row[1]])\n",
        "  confirmed_df=confirmed_df+[[data[\"Lat\"][i],data[\"Long\"][i]]]\n"
      ],
      "execution_count": 0,
      "outputs": []
    },
    {
      "cell_type": "code",
      "metadata": {
        "id": "5sdviw_T67eK",
        "colab_type": "code",
        "outputId": "5594d550-b70e-40b7-fab7-57b14979b1f9",
        "colab": {
          "base_uri": "https://localhost:8080/",
          "height": 204
        }
      },
      "source": [
        "diff_b=[]\n",
        "lat_long = []\n",
        "for i in range(df_confirmed.shape[0]):\n",
        "  data=df_confirmed.iloc[[i]]\n",
        "  a = list(data.iloc[0,4:])\n",
        "  if 0 in a:\n",
        "    a.remove(0)\n",
        "  b=pd.Series(a)\n",
        "  b_diff = b.diff()\n",
        "  b_diff = pd.Series([value for value in b_diff if not math.isnan(value)])\n",
        "  mean_diff = b_diff.mean()\n",
        "  diff_b.append(mean_diff)\n",
        "clusters = k_means_optimal_5.predict(confirmed_df)\n",
        "cluster_centers = k_means_optimal_5.cluster_centers_\n",
        "dict_clusters = dict(zip(range(5),cluster_centers))\n",
        "\n",
        "df_confirmed[\"Lat_Long_predicted\"]=(clusters)\n",
        "df_confirmed[\"confirmed_rate\"] = list(diff_b)\n",
        "df_confirmed = df_confirmed[[\"Lat_Long_predicted\",\"confirmed_rate\"]]\n",
        "df_mean_c = df_confirmed.groupby(by=\"Lat_Long_predicted\").mean()\n",
        "df_mean_c[\"Cluster_centers\"] = list(k_means_optimal_5.cluster_centers_)\n",
        "df_mean_c = df_mean_c.reset_index()\n",
        "df_mean_c =df_mean_c.drop(labels=\"Lat_Long_predicted\",axis=1)\n",
        "df_mean_c\n"
      ],
      "execution_count": 0,
      "outputs": [
        {
          "output_type": "execute_result",
          "data": {
            "text/html": [
              "<div>\n",
              "<style scoped>\n",
              "    .dataframe tbody tr th:only-of-type {\n",
              "        vertical-align: middle;\n",
              "    }\n",
              "\n",
              "    .dataframe tbody tr th {\n",
              "        vertical-align: top;\n",
              "    }\n",
              "\n",
              "    .dataframe thead th {\n",
              "        text-align: right;\n",
              "    }\n",
              "</style>\n",
              "<table border=\"1\" class=\"dataframe\">\n",
              "  <thead>\n",
              "    <tr style=\"text-align: right;\">\n",
              "      <th></th>\n",
              "      <th>confirmed_rate</th>\n",
              "      <th>Cluster_centers</th>\n",
              "    </tr>\n",
              "  </thead>\n",
              "  <tbody>\n",
              "    <tr>\n",
              "      <th>0</th>\n",
              "      <td>24.909366</td>\n",
              "      <td>[28.41360113742521, 115.13177477421532]</td>\n",
              "    </tr>\n",
              "    <tr>\n",
              "      <th>1</th>\n",
              "      <td>61.103604</td>\n",
              "      <td>[45.012130573339086, 6.302133506379997]</td>\n",
              "    </tr>\n",
              "    <tr>\n",
              "      <th>2</th>\n",
              "      <td>46.443428</td>\n",
              "      <td>[39.95674522712829, -83.303267948814]</td>\n",
              "    </tr>\n",
              "    <tr>\n",
              "      <th>3</th>\n",
              "      <td>4.816092</td>\n",
              "      <td>[-12.614099907784542, -66.12693118001533]</td>\n",
              "    </tr>\n",
              "    <tr>\n",
              "      <th>4</th>\n",
              "      <td>13.820106</td>\n",
              "      <td>[30.379221325594116, 50.224418174542315]</td>\n",
              "    </tr>\n",
              "  </tbody>\n",
              "</table>\n",
              "</div>"
            ],
            "text/plain": [
              "   confirmed_rate                            Cluster_centers\n",
              "0       24.909366    [28.41360113742521, 115.13177477421532]\n",
              "1       61.103604    [45.012130573339086, 6.302133506379997]\n",
              "2       46.443428      [39.95674522712829, -83.303267948814]\n",
              "3        4.816092  [-12.614099907784542, -66.12693118001533]\n",
              "4       13.820106   [30.379221325594116, 50.224418174542315]"
            ]
          },
          "metadata": {
            "tags": []
          },
          "execution_count": 34
        }
      ]
    },
    {
      "cell_type": "code",
      "metadata": {
        "id": "dAeqhOY_2FXR",
        "colab_type": "code",
        "outputId": "0129f8c1-c86f-41f8-a5ab-40abe2303fe3",
        "colab": {
          "base_uri": "https://localhost:8080/",
          "height": 281
        }
      },
      "source": [
        "labels=[\"[28.4,115]\",\"[45,6.3]\",\"[40,-83.3]\",\"[-12.6,-66]\",\"[30.3,50.2]\"]\n",
        "df_mean_c = list(df_mean_c[\"confirmed_rate\"])\n",
        "x=np.arange(len(labels))\n",
        "width = 0.35  # the width of the bars\n",
        "\n",
        "fig, ax = plt.subplots()\n",
        "\n",
        "confirmed = ax.bar(x ,df_mean_c, width, label='Confirmed_Rate')\n",
        "\n",
        "\n",
        "\n",
        "# Add some text for labels, title and custom x-axis tick labels, etc.\n",
        "ax.set_ylabel('Confirmed Cases per day')\n",
        "ax.set_title('Confirmed Rate - Cluster wise')\n",
        "ax.set_xticks(x)\n",
        "ax.set_xticklabels(labels)\n",
        "ax.legend()\n",
        "\n",
        "plt.show()"
      ],
      "execution_count": 0,
      "outputs": [
        {
          "output_type": "display_data",
          "data": {
            "image/png": "[encoded data removed]",
            "text/plain": [
              "<Figure size 432x288 with 1 Axes>"
            ]
          },
          "metadata": {
            "tags": []
          }
        }
      ]
    },
    {
      "cell_type": "markdown",
      "metadata": {
        "id": "57-vWiWt8yaF",
        "colab_type": "text"
      },
      "source": [
        "#COVID-19\n",
        "THE ABOVE GRAPH SAYS THAT AT THE LATITUDE 45 AND LONGITUDE 6.3 i.e. IN FRANCE THERE ARE MORE TESITING KITS.SO,CONFIRMED CASES PREDICTED ARE MORE MUST TAKE MORE PRECAUTIONS"
      ]
    },
    {
      "cell_type": "code",
      "metadata": {
        "id": "qh6mrBwPIHpq",
        "colab_type": "code",
        "colab": {}
      },
      "source": [
        "df_deaths=pd.read_csv('/content/time_series_covid19_deaths_global.csv')\n",
        "deaths_df=[]\n",
        "for i,row in enumerate(df_deaths.iterrows()):\n",
        "  data=pd.DataFrame([row[1]])\n",
        "  deaths_df=deaths_df+[[data[\"Lat\"][i],data[\"Long\"][i]]]\n"
      ],
      "execution_count": 0,
      "outputs": []
    },
    {
      "cell_type": "code",
      "metadata": {
        "id": "VluGjPT_J9Kk",
        "colab_type": "code",
        "outputId": "1a1d58a5-2db5-4f68-ee57-bc389691770d",
        "colab": {
          "base_uri": "https://localhost:8080/",
          "height": 204
        }
      },
      "source": [
        "diff_b=[]\n",
        "lat_long = []\n",
        "for i in range(df_deaths.shape[0]):\n",
        "  data=df_deaths.iloc[[i]]\n",
        "  a = list(data.iloc[0,4:])\n",
        "  if 0 in a:\n",
        "    a.remove(0)\n",
        "  b=pd.Series(a)\n",
        "  b_diff = b.diff()\n",
        "  b_diff = pd.Series([value for value in b_diff if not math.isnan(value)])\n",
        "  mean_diff = b_diff.mean()\n",
        "  diff_b.append(mean_diff)\n",
        "clusters = k_optimal_5.predict(deaths_df)\n",
        "cluster_centers = k_optimal_5.cluster_centers_\n",
        "dict_clusters = dict(zip(range(5),cluster_centers))\n",
        "\n",
        "df_deaths[\"Lat_Long_predicted\"]=(clusters)\n",
        "df_deaths[\"death_rate\"] = list(diff_b)\n",
        "df_deaths = df_deaths[[\"Lat_Long_predicted\",\"death_rate\"]]\n",
        "df_mean_d = df_deaths.groupby(by=\"Lat_Long_predicted\").mean()\n",
        "df_mean_d[\"Cluster_centers\"] = list(k_optimal_5.cluster_centers_)\n",
        "df_mean_d = df_mean_d.reset_index()\n",
        "df_mean_d =df_mean_d.drop(labels=\"Lat_Long_predicted\",axis=1)\n",
        "df_mean_d\n",
        "\n",
        "\n"
      ],
      "execution_count": 0,
      "outputs": [
        {
          "output_type": "execute_result",
          "data": {
            "text/html": [
              "<div>\n",
              "<style scoped>\n",
              "    .dataframe tbody tr th:only-of-type {\n",
              "        vertical-align: middle;\n",
              "    }\n",
              "\n",
              "    .dataframe tbody tr th {\n",
              "        vertical-align: top;\n",
              "    }\n",
              "\n",
              "    .dataframe thead th {\n",
              "        text-align: right;\n",
              "    }\n",
              "</style>\n",
              "<table border=\"1\" class=\"dataframe\">\n",
              "  <thead>\n",
              "    <tr style=\"text-align: right;\">\n",
              "      <th></th>\n",
              "      <th>death_rate</th>\n",
              "      <th>Cluster_centers</th>\n",
              "    </tr>\n",
              "  </thead>\n",
              "  <tbody>\n",
              "    <tr>\n",
              "      <th>0</th>\n",
              "      <td>3.193178</td>\n",
              "      <td>[43.187428333127436, 12.061132295515069]</td>\n",
              "    </tr>\n",
              "    <tr>\n",
              "      <th>1</th>\n",
              "      <td>0.887091</td>\n",
              "      <td>[29.98586113305872, 113.398494739371]</td>\n",
              "    </tr>\n",
              "    <tr>\n",
              "      <th>2</th>\n",
              "      <td>0.389984</td>\n",
              "      <td>[33.56305629919779, -87.08175858625111]</td>\n",
              "    </tr>\n",
              "    <tr>\n",
              "      <th>3</th>\n",
              "      <td>0.791059</td>\n",
              "      <td>[32.39034394423977, 52.85361963222631]</td>\n",
              "    </tr>\n",
              "    <tr>\n",
              "      <th>4</th>\n",
              "      <td>3.705820</td>\n",
              "      <td>[42.00791008130675, -2.210718535040481]</td>\n",
              "    </tr>\n",
              "  </tbody>\n",
              "</table>\n",
              "</div>"
            ],
            "text/plain": [
              "   death_rate                           Cluster_centers\n",
              "0    3.193178  [43.187428333127436, 12.061132295515069]\n",
              "1    0.887091     [29.98586113305872, 113.398494739371]\n",
              "2    0.389984   [33.56305629919779, -87.08175858625111]\n",
              "3    0.791059    [32.39034394423977, 52.85361963222631]\n",
              "4    3.705820   [42.00791008130675, -2.210718535040481]"
            ]
          },
          "metadata": {
            "tags": []
          },
          "execution_count": 37
        }
      ]
    },
    {
      "cell_type": "code",
      "metadata": {
        "id": "nS3s5CK72p_Z",
        "colab_type": "code",
        "outputId": "c88cddff-2bbc-49f2-bdbe-7e7c7625edc0",
        "colab": {
          "base_uri": "https://localhost:8080/",
          "height": 281
        }
      },
      "source": [
        "labels=[\"[43.1,12]\",\"[30,113.4]\",\"[33.6,-87]\",\"[32.4,52.9]\",\"[42,-2.2]\"]\n",
        "df_mean_d = list(df_mean_d[\"death_rate\"])\n",
        "x=np.arange(len(labels))\n",
        "width = 0.35  # the width of the bars\n",
        "\n",
        "fig, ax = plt.subplots()\n",
        "\n",
        "confirmed = ax.bar(x ,df_mean_d, width, label='death_Rate')\n",
        "\n",
        "\n",
        "\n",
        "# Add some text for labels, title and custom x-axis tick labels, etc.\n",
        "ax.set_ylabel('death Cases per day')\n",
        "ax.set_title('death Cases - Cluster wise')\n",
        "ax.set_xticks(x)\n",
        "ax.set_xticklabels(labels)\n",
        "ax.legend()\n",
        "\n",
        "plt.show()"
      ],
      "execution_count": 0,
      "outputs": [
        {
          "output_type": "display_data",
          "data": {
            "image/png": "[encoded data removed]",
            "text/plain": [
              "<Figure size 432x288 with 1 Axes>"
            ]
          },
          "metadata": {
            "tags": []
          }
        }
      ]
    },
    {
      "cell_type": "markdown",
      "metadata": {
        "id": "aA1atsM3_z4b",
        "colab_type": "text"
      },
      "source": [
        "THE ABOVE GRAPH SAYS THAT AT THE LATITUDE 42 AND LONGITUDE -2.2 i.e. IN SPAIN THERE ARE LESS TESITING KITS AND HOSPITALS,EFFECTED PATIENTS DUE TO COVID-19 ARE MORE.SO,DEATH RATE IS  MORE MUST TAKE MORE PRECAUTIONS REMAININGG PEOPLE."
      ]
    },
    {
      "cell_type": "code",
      "metadata": {
        "id": "EuJFhEofD7cv",
        "colab_type": "code",
        "colab": {}
      },
      "source": [
        "df_recovered=pd.read_csv('/content/time_series_covid19_recovered_global.csv')\n",
        "recovered_df=[]\n",
        "for i,row in enumerate(df_recovered.iterrows()):\n",
        "  data=pd.DataFrame([row[1]])\n",
        "  recovered_df=recovered_df+[[data[\"Lat\"][i],data[\"Long\"][i]]]\n"
      ],
      "execution_count": 0,
      "outputs": []
    },
    {
      "cell_type": "code",
      "metadata": {
        "id": "pjFU_1TGJIzl",
        "colab_type": "code",
        "outputId": "b4923a05-cac8-4347-a40a-3fb8999f7e60",
        "colab": {
          "base_uri": "https://localhost:8080/",
          "height": 204
        }
      },
      "source": [
        "diff_b=[]\n",
        "lat_long = []\n",
        "for i in range(df_recovered.shape[0]):\n",
        "  data=df_recovered.iloc[[i]]\n",
        "  a = list(data.iloc[0,4:])\n",
        "  if 0 in a:\n",
        "    a.remove(0)\n",
        "  b=pd.Series(a)\n",
        "  b_diff = b.diff()\n",
        "  b_diff = pd.Series([value for value in b_diff if not math.isnan(value)])\n",
        "  mean_diff = b_diff.mean()\n",
        "  diff_b.append(mean_diff)\n",
        "clusters = k_means_5.predict(recovered_df)\n",
        "cluster_centers = k_means_5.cluster_centers_\n",
        "dict_clusters = dict(zip(range(5),cluster_centers))\n",
        "\n",
        "df_recovered[\"Lat_Long_predicted\"]=(clusters)\n",
        "df_recovered[\"recovered_rate\"] = list(diff_b)\n",
        "df_recovered = df_recovered[[\"Lat_Long_predicted\",\"recovered_rate\"]]\n",
        "df_mean_r = df_recovered.groupby(by=\"Lat_Long_predicted\").mean()\n",
        "df_mean_r[\"Cluster_centers\"] = list(k_means_5.cluster_centers_)\n",
        "df_mean_r = df_mean_r.reset_index()\n",
        "df_mean_r = df_mean_r.drop(labels=\"Lat_Long_predicted\",axis=1)\n",
        "df_mean_r\n",
        "\n",
        "\n"
      ],
      "execution_count": 0,
      "outputs": [
        {
          "output_type": "execute_result",
          "data": {
            "text/html": [
              "<div>\n",
              "<style scoped>\n",
              "    .dataframe tbody tr th:only-of-type {\n",
              "        vertical-align: middle;\n",
              "    }\n",
              "\n",
              "    .dataframe tbody tr th {\n",
              "        vertical-align: top;\n",
              "    }\n",
              "\n",
              "    .dataframe thead th {\n",
              "        text-align: right;\n",
              "    }\n",
              "</style>\n",
              "<table border=\"1\" class=\"dataframe\">\n",
              "  <thead>\n",
              "    <tr style=\"text-align: right;\">\n",
              "      <th></th>\n",
              "      <th>recovered_rate</th>\n",
              "      <th>Cluster_centers</th>\n",
              "    </tr>\n",
              "  </thead>\n",
              "  <tbody>\n",
              "    <tr>\n",
              "      <th>0</th>\n",
              "      <td>6.383394</td>\n",
              "      <td>[36.70418269395626, 128.64043343228352]</td>\n",
              "    </tr>\n",
              "    <tr>\n",
              "      <th>1</th>\n",
              "      <td>8.599134</td>\n",
              "      <td>[44.49738112582572, 6.214925797003303]</td>\n",
              "    </tr>\n",
              "    <tr>\n",
              "      <th>2</th>\n",
              "      <td>22.820159</td>\n",
              "      <td>[30.575375133215193, 112.5639396730023]</td>\n",
              "    </tr>\n",
              "    <tr>\n",
              "      <th>3</th>\n",
              "      <td>4.614571</td>\n",
              "      <td>[32.09161480419795, 53.18069407787967]</td>\n",
              "    </tr>\n",
              "    <tr>\n",
              "      <th>4</th>\n",
              "      <td>0.309315</td>\n",
              "      <td>[-1.758398713513742, -6.5212212348363465]</td>\n",
              "    </tr>\n",
              "  </tbody>\n",
              "</table>\n",
              "</div>"
            ],
            "text/plain": [
              "   recovered_rate                            Cluster_centers\n",
              "0        6.383394    [36.70418269395626, 128.64043343228352]\n",
              "1        8.599134     [44.49738112582572, 6.214925797003303]\n",
              "2       22.820159    [30.575375133215193, 112.5639396730023]\n",
              "3        4.614571     [32.09161480419795, 53.18069407787967]\n",
              "4        0.309315  [-1.758398713513742, -6.5212212348363465]"
            ]
          },
          "metadata": {
            "tags": []
          },
          "execution_count": 40
        }
      ]
    },
    {
      "cell_type": "code",
      "metadata": {
        "id": "xhRL4ugWQ0nK",
        "colab_type": "code",
        "outputId": "70b24196-a488-481f-b91f-426afeb4da1e",
        "colab": {
          "base_uri": "https://localhost:8080/",
          "height": 281
        }
      },
      "source": [
        "labels=[\"[36.7,128.6]\",\"[44.5,6.2]\",\"[30.6,112.5]\",\"[32.09,53.18]\",\"[-1.75,-6.52]\"]\n",
        "df_mean_r = list(df_mean_r[\"recovered_rate\"])\n",
        "x=np.arange(len(labels))\n",
        "width = 0.35  # the width of the bars\n",
        "\n",
        "fig, ax = plt.subplots()\n",
        "recovered = ax.bar(x ,df_mean_r, width, label='recovered_Rate')\n",
        "\n",
        "\n",
        "\n",
        "# Add some text for labels, title and custom x-axis tick labels, etc.\n",
        "ax.set_ylabel('recovered Cases per day')\n",
        "ax.set_title('recovered Cases - Cluster wise')\n",
        "ax.set_xticks(x)\n",
        "ax.set_xticklabels(labels)\n",
        "ax.legend()\n",
        "\n",
        "plt.show()"
      ],
      "execution_count": 0,
      "outputs": [
        {
          "output_type": "display_data",
          "data": {
            "image/png": "[encoded data removed]",
            "text/plain": [
              "<Figure size 432x288 with 1 Axes>"
            ]
          },
          "metadata": {
            "tags": []
          }
        }
      ]
    },
    {
      "cell_type": "markdown",
      "metadata": {
        "id": "2ANkBMljBfhP",
        "colab_type": "text"
      },
      "source": [
        "#COVID-19\n",
        "THE ABOVE GRAPH SAYS THAT AT THE LATITUDE 30.6 AND LONGITUDE 112.5 i.e. IN CHINA, THERE ARE MORE TESITING KITS,HOSPITALS AND DOCTORS.SO,RECOVERED PEOPLE  ARE MORE . STAY HOME."
      ]
    },
    {
      "cell_type": "markdown",
      "metadata": {
        "id": "np38F1FjCRt-",
        "colab_type": "text"
      },
      "source": [
        "GROUP MEMBERS:\n",
        "*   M.V.P.VAMSI-19PA1A05I8\n",
        "*   S.AJITH KUMAR-19PA1A05G9\n",
        "*   T.RAJ PRANAV-19PA1A05H3\n",
        "*   G.ABHISHEK-19PA1A0548\n",
        "*   CH.MAHESH-19PA1A0534\n",
        "\n"
      ]
    }
  ]
}